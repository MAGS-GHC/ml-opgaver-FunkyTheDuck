{
  "cells": [
    {
      "cell_type": "markdown",
      "metadata": {
        "id": "TL5y5fY9Jy_x"
      },
      "source": [
        "# Binary Classification\n",
        "\n",
        "So far, you've only created regression models. That is, you created models that produced floating-point predictions, such as, \"houses in this neighborhood costs N thousand dollars.\" In this Colab, you'll create and evaluate a binary [classification model](https://developers.google.com/machine-learning/glossary/#classification_model).  That is, you'll create a model that answers a binary question. In this exercise, the binary question will be, \"Are houses in this neighborhood above a certain price?\"\n",
        "\n",
        "\n",
        "\n"
      ]
    },
    {
      "cell_type": "markdown",
      "metadata": {
        "id": "yuw8rRl9lNuL"
      },
      "source": [
        "## Learning Objectives:\n",
        "\n",
        "After doing this Colab, you'll know how to:\n",
        "\n",
        "  * Convert a regression question into a classification question.\n",
        "  * Modify the classification threshold and determine how that modification influences the model.\n",
        "  * Experiment with different classification metrics to determine your model's effectiveness."
      ]
    },
    {
      "cell_type": "markdown",
      "metadata": {
        "id": "44OdC-OglN9D"
      },
      "source": [
        "## The Dataset\n",
        "  \n",
        "Like several of the previous Colabs, this Colab uses the [California Housing Dataset](https://developers.google.com/machine-learning/crash-course/california-housing-data-description)."
      ]
    },
    {
      "cell_type": "markdown",
      "metadata": {
        "id": "5iuw6-JOGf7I"
      },
      "source": [
        "## Call the import statements\n",
        "\n",
        "The following code imports the necessary modules."
      ]
    },
    {
      "cell_type": "code",
      "execution_count": 1,
      "metadata": {
        "cellView": "form",
        "id": "9n9_cTveKmse"
      },
      "outputs": [
        {
          "name": "stdout",
          "output_type": "stream",
          "text": [
            "WARNING:tensorflow:From C:\\Users\\dkjsi\\AppData\\Local\\Packages\\PythonSoftwareFoundation.Python.3.11_qbz5n2kfra8p0\\LocalCache\\local-packages\\Python311\\site-packages\\keras\\src\\losses.py:2976: The name tf.losses.sparse_softmax_cross_entropy is deprecated. Please use tf.compat.v1.losses.sparse_softmax_cross_entropy instead.\n",
            "\n",
            "Ran the import statements.\n"
          ]
        }
      ],
      "source": [
        "#@title Load the imports\n",
        "\n",
        "import numpy as np\n",
        "import pandas as pd\n",
        "import tensorflow as tf\n",
        "from tensorflow.keras import layers\n",
        "from matplotlib import pyplot as plt\n",
        "\n",
        "# The following lines adjust the granularity of reporting.\n",
        "pd.options.display.max_rows = 10\n",
        "pd.options.display.float_format = \"{:.1f}\".format\n",
        "# tf.keras.backend.set_floatx('float32')\n",
        "\n",
        "print(\"Ran the import statements.\")"
      ]
    },
    {
      "cell_type": "markdown",
      "metadata": {
        "id": "X_TaJhU4KcuY"
      },
      "source": [
        "## Load the datasets from the internet\n",
        "\n",
        "The following code cell loads the separate .csv files and creates the following two pandas DataFrames:\n",
        "\n",
        "* `train_df`, which contains the training set\n",
        "* `test_df`, which contains the test set"
      ]
    },
    {
      "cell_type": "code",
      "execution_count": 2,
      "metadata": {
        "id": "JZlvdpyYKx7V"
      },
      "outputs": [],
      "source": [
        "train_df = pd.read_csv(\"https://download.mlcc.google.com/mledu-datasets/california_housing_train.csv\")\n",
        "test_df = pd.read_csv(\"https://download.mlcc.google.com/mledu-datasets/california_housing_test.csv\")\n",
        "train_df = train_df.reindex(np.random.permutation(train_df.index)) # shuffle the training set"
      ]
    },
    {
      "cell_type": "markdown",
      "metadata": {
        "id": "q_vuAQq0Cvrp"
      },
      "source": [
        "Unlike some of the previous Colabs, the preceding code cell did not scale the label (`median_house_value`).  The following section (\"Normalize values\") provides an alternative approach."
      ]
    },
    {
      "cell_type": "markdown",
      "metadata": {
        "id": "_G6y-XcEmk6r"
      },
      "source": [
        "## Normalize values\n",
        "\n",
        "When creating a model with multiple features, the values of each feature should cover roughly the same range.  For example, if one feature's range spans 500 to 100,000 and another feature's range spans 2 to 12, then the model will be difficult or impossible to train. Therefore, you should\n",
        "[normalize](https://developers.google.com/machine-learning/glossary/#normalization) features in a multi-feature model.\n",
        "\n",
        "The following code cell normalizes datasets by converting each raw value (including the label) to its Z-score. A **Z-score** is the number of standard deviations from the mean for a particular raw value. For example, consider a feature having the following characteristics:\n",
        "\n",
        "  * The mean is 60.\n",
        "  * The standard deviation is 10.\n",
        "\n",
        "The raw value 75 would have a Z-score of +1.5:\n",
        "\n",
        "```\n",
        "  Z-score = (75 - 60) / 10 = +1.5\n",
        "```\n",
        "\n",
        "The raw value 38 would have a Z-score of -2.2:\n",
        "\n",
        "```\n",
        "  Z-score = (38 - 60) / 10 = -2.2\n",
        "```"
      ]
    },
    {
      "cell_type": "code",
      "execution_count": 3,
      "metadata": {
        "id": "n7nuAHoZIgVI"
      },
      "outputs": [
        {
          "data": {
            "text/html": [
              "<div>\n",
              "<style scoped>\n",
              "    .dataframe tbody tr th:only-of-type {\n",
              "        vertical-align: middle;\n",
              "    }\n",
              "\n",
              "    .dataframe tbody tr th {\n",
              "        vertical-align: top;\n",
              "    }\n",
              "\n",
              "    .dataframe thead th {\n",
              "        text-align: right;\n",
              "    }\n",
              "</style>\n",
              "<table border=\"1\" class=\"dataframe\">\n",
              "  <thead>\n",
              "    <tr style=\"text-align: right;\">\n",
              "      <th></th>\n",
              "      <th>longitude</th>\n",
              "      <th>latitude</th>\n",
              "      <th>housing_median_age</th>\n",
              "      <th>total_rooms</th>\n",
              "      <th>total_bedrooms</th>\n",
              "      <th>population</th>\n",
              "      <th>households</th>\n",
              "      <th>median_income</th>\n",
              "      <th>median_house_value</th>\n",
              "    </tr>\n",
              "  </thead>\n",
              "  <tbody>\n",
              "    <tr>\n",
              "      <th>9622</th>\n",
              "      <td>0.1</td>\n",
              "      <td>0.5</td>\n",
              "      <td>-0.0</td>\n",
              "      <td>-0.6</td>\n",
              "      <td>-0.5</td>\n",
              "      <td>-0.1</td>\n",
              "      <td>-0.5</td>\n",
              "      <td>-1.2</td>\n",
              "      <td>-1.3</td>\n",
              "    </tr>\n",
              "    <tr>\n",
              "      <th>13293</th>\n",
              "      <td>-1.2</td>\n",
              "      <td>1.0</td>\n",
              "      <td>-1.6</td>\n",
              "      <td>-1.0</td>\n",
              "      <td>-1.2</td>\n",
              "      <td>-1.1</td>\n",
              "      <td>-1.2</td>\n",
              "      <td>4.6</td>\n",
              "      <td>1.9</td>\n",
              "    </tr>\n",
              "    <tr>\n",
              "      <th>13817</th>\n",
              "      <td>-1.2</td>\n",
              "      <td>0.6</td>\n",
              "      <td>0.5</td>\n",
              "      <td>-0.5</td>\n",
              "      <td>-0.3</td>\n",
              "      <td>-0.6</td>\n",
              "      <td>-0.3</td>\n",
              "      <td>-0.7</td>\n",
              "      <td>0.3</td>\n",
              "    </tr>\n",
              "    <tr>\n",
              "      <th>2572</th>\n",
              "      <td>1.0</td>\n",
              "      <td>-0.7</td>\n",
              "      <td>-1.1</td>\n",
              "      <td>0.3</td>\n",
              "      <td>0.3</td>\n",
              "      <td>0.5</td>\n",
              "      <td>0.3</td>\n",
              "      <td>0.0</td>\n",
              "      <td>-0.5</td>\n",
              "    </tr>\n",
              "    <tr>\n",
              "      <th>7761</th>\n",
              "      <td>0.6</td>\n",
              "      <td>-0.8</td>\n",
              "      <td>0.4</td>\n",
              "      <td>-0.4</td>\n",
              "      <td>-0.4</td>\n",
              "      <td>-0.6</td>\n",
              "      <td>-0.4</td>\n",
              "      <td>1.1</td>\n",
              "      <td>2.5</td>\n",
              "    </tr>\n",
              "  </tbody>\n",
              "</table>\n",
              "</div>"
            ],
            "text/plain": [
              "       longitude  latitude  housing_median_age  total_rooms  total_bedrooms  \\\n",
              "9622         0.1       0.5                -0.0         -0.6            -0.5   \n",
              "13293       -1.2       1.0                -1.6         -1.0            -1.2   \n",
              "13817       -1.2       0.6                 0.5         -0.5            -0.3   \n",
              "2572         1.0      -0.7                -1.1          0.3             0.3   \n",
              "7761         0.6      -0.8                 0.4         -0.4            -0.4   \n",
              "\n",
              "       population  households  median_income  median_house_value  \n",
              "9622         -0.1        -0.5           -1.2                -1.3  \n",
              "13293        -1.1        -1.2            4.6                 1.9  \n",
              "13817        -0.6        -0.3           -0.7                 0.3  \n",
              "2572          0.5         0.3            0.0                -0.5  \n",
              "7761         -0.6        -0.4            1.1                 2.5  "
            ]
          },
          "execution_count": 3,
          "metadata": {},
          "output_type": "execute_result"
        }
      ],
      "source": [
        "# Calculate the Z-scores of each column in the training set and\n",
        "# write those Z-scores into a new pandas DataFrame named train_df_norm.\n",
        "train_df_mean = train_df.mean()\n",
        "train_df_std = train_df.std()\n",
        "train_df_norm = (train_df - train_df_mean)/train_df_std\n",
        "\n",
        "# Examine some of the values of the normalized training set. Notice that most\n",
        "# Z-scores fall between -2 and +2.\n",
        "train_df_norm.head()"
      ]
    },
    {
      "cell_type": "code",
      "execution_count": 4,
      "metadata": {
        "id": "QoW-59jVFF2I"
      },
      "outputs": [],
      "source": [
        "# Calculate the Z-scores of each column in the test set and\n",
        "# write those Z-scores into a new pandas DataFrame named test_df_norm.\n",
        "test_df_norm = (test_df - train_df_mean) / train_df_std\n",
        "\n",
        "# Note that we transform the test data with the values calculated from the training set,\n",
        "# as you should always transform your datasets with exactly the same values."
      ]
    },
    {
      "cell_type": "markdown",
      "metadata": {
        "id": "-swmXtWnZGis"
      },
      "source": [
        "## Task 1: Create a binary label\n",
        "\n",
        "In classification problems, the label for every example must be either 0 or 1. Unfortunately, the natural label in the California Housing Dataset, `median_house_value`, contains floating-point values like 80,100 or 85,700 rather than 0s and 1s, while the normalized version of `median_house_values` contains floating-point values primarily between -3 and +3.\n",
        "\n",
        "Your task is to create a new column named `median_house_value_is_high` in both the training set and the test set . If the `median_house_value` is higher than a certain arbitrary value (defined by `threshold`), then set `median_house_value_is_high` to 1. Otherwise, set `median_house_value_is_high` to 0.\n",
        "\n",
        "**Hint:** The cells in the `median_house_value_is_high` column must each hold `1` and `0`, not `True` and `False`. To convert `True` and `False` to  `1` and `0`, call the pandas DataFrame function `astype(float)`."
      ]
    },
    {
      "cell_type": "code",
      "execution_count": 17,
      "metadata": {
        "id": "d4kWfWA8bhKW"
      },
      "outputs": [
        {
          "data": {
            "text/plain": [
              "9622    0.0\n",
              "13293   1.0\n",
              "13817   0.0\n",
              "2572    0.0\n",
              "7761    1.0\n",
              "         ..\n",
              "16246   1.0\n",
              "15409   0.0\n",
              "10734   0.0\n",
              "13870   1.0\n",
              "8648    0.0\n",
              "Name: median_house_value_is_high, Length: 8000, dtype: float32"
            ]
          },
          "execution_count": 17,
          "metadata": {},
          "output_type": "execute_result"
        }
      ],
      "source": [
        "threshold = 265000 # This is the 75th percentile for median house values.\n",
        "train_df_norm[\"median_house_value_is_high\"] = (train_df[\"median_house_value\"] > threshold).astype(np.float32)\n",
        "test_df_norm[\"median_house_value_is_high\"] = (test_df[\"median_house_value\"] > threshold).astype(np.float32)\n",
        "\n",
        "# Print out a few example cells from the beginning and\n",
        "# middle of the training set, just to make sure that\n",
        "# your code created only 0s and 1s in the newly created\n",
        "# median_house_value_is_high column\n",
        "train_df_norm[\"median_house_value_is_high\"].head(8000)"
      ]
    },
    {
      "cell_type": "code",
      "execution_count": 13,
      "metadata": {
        "id": "b8b2fNmHO-iU"
      },
      "outputs": [
        {
          "name": "stdout",
          "output_type": "stream",
          "text": [
            "9622    0.0\n",
            "13293   1.0\n",
            "13817   0.0\n",
            "2572    0.0\n",
            "7761    1.0\n",
            "         ..\n",
            "14445   0.0\n",
            "11143   0.0\n",
            "9207    0.0\n",
            "13170   1.0\n",
            "3399    1.0\n",
            "Name: median_house_value_is_high, Length: 17000, dtype: float64\n",
            "9622    0.0\n",
            "13293   1.0\n",
            "13817   0.0\n",
            "2572    0.0\n",
            "7761    1.0\n",
            "         ..\n",
            "14445   0.0\n",
            "11143   0.0\n",
            "9207    0.0\n",
            "13170   1.0\n",
            "3399    1.0\n",
            "Name: median_house_value_is_high, Length: 17000, dtype: float64\n"
          ]
        }
      ],
      "source": [
        "#@title Double-click for possible solutions.\n",
        "\n",
        "# We arbitrarily set the threshold to 265,000, which is\n",
        "# the 75th percentile for median house values.  Every neighborhood\n",
        "# with a median house price above 265,000 will be labeled 1,\n",
        "# and all other neighborhoods will be labeled 0.\n",
        "threshold = 265000\n",
        "train_df_norm[\"median_house_value_is_high\"] = (train_df[\"median_house_value\"] > threshold).astype(float)\n",
        "test_df_norm[\"median_house_value_is_high\"] = (test_df[\"median_house_value\"] > threshold).astype(float)\n",
        "train_df_norm[\"median_house_value_is_high\"].head(8000)\n",
        "\n",
        "\n",
        "# Alternatively, instead of picking the threshold\n",
        "# based on raw house values, you can work with Z-scores.\n",
        "# For example, the following possible solution uses a Z-score\n",
        "# of +1.0 as the threshold, meaning that no more\n",
        "# than 16% of the values in median_house_value_is_high\n",
        "# will be labeled 1.\n",
        "\n",
        "# threshold_in_Z = 1.0\n",
        "# train_df_norm[\"median_house_value_is_high\"] = (train_df_norm[\"median_house_value\"] > threshold_in_Z).astype(float)\n",
        "# test_df_norm[\"median_house_value_is_high\"] = (test_df_norm[\"median_house_value\"] > threshold_in_Z).astype(float)\n"
      ]
    },
    {
      "cell_type": "markdown",
      "metadata": {
        "id": "8kir8UTUXSV8"
      },
      "source": [
        "## Represent features as input layers\n",
        "\n",
        "This code cell specifies the features, `median_income` and ` total_rooms`, that you'll ultimately train the model on. These [Input](https://www.tensorflow.org/api_docs/python/tf/keras/Input) objects are instantiated as Keras tensors."
      ]
    },
    {
      "cell_type": "code",
      "execution_count": 18,
      "metadata": {
        "id": "3tmmZIDw4JEC"
      },
      "outputs": [],
      "source": [
        "inputs = {\n",
        "# Features used to train the model on.\n",
        "  'median_income': tf.keras.Input(shape=(1,)),\n",
        "  'total_rooms': tf.keras.Input(shape=(1,))\n",
        "}\n"
      ]
    },
    {
      "cell_type": "markdown",
      "metadata": {
        "id": "3014ezH3C7jT"
      },
      "source": [
        "## Define functions that build and train a model\n",
        "\n",
        "The following code cell defines two functions:\n",
        "\n",
        "  * `create_model(inputs, learning_rate, METRICS)`, which defines the model's\n",
        "    topography.\n",
        "  * `train_model(model, dataset, epochs, label_name, batch_size, shuffle)`, uses input features and labels to train the model.\n",
        "\n",
        "Prior exercises used [ReLU](https://developers.google.com/machine-learning/glossary#ReLU) as the [activation function](https://developers.google.com/machine-learning/glossary#activation-function). By contrast, this exercise uses [sigmoid](https://developers.google.com/machine-learning/glossary#sigmoid-function) as the activation function."
      ]
    },
    {
      "cell_type": "code",
      "execution_count": 19,
      "metadata": {
        "id": "pedD5GhlDC-y"
      },
      "outputs": [
        {
          "name": "stdout",
          "output_type": "stream",
          "text": [
            "Defined the create_model and train_model functions.\n"
          ]
        }
      ],
      "source": [
        "#@title Define the functions that create and train a model.\n",
        "def create_model(my_inputs, my_learning_rate, METRICS):\n",
        "  # Use a Concatenate layer to concatenate the input layers into a single tensor.\n",
        "  # as input for the Dense layer. Ex: [input_1[0][0], input_2[0][0]]\n",
        "  concatenated_inputs = tf.keras.layers.Concatenate()(my_inputs.values())\n",
        "  dense = layers.Dense(units=1, name='dense_layer', activation=tf.sigmoid)\n",
        "  dense_output = dense(concatenated_inputs)\n",
        "  \"\"\"Create and compile a simple classification model.\"\"\"\n",
        "  my_outputs = {\n",
        "    'dense': dense_output,\n",
        "  }\n",
        "  model = tf.keras.Model(inputs=my_inputs, outputs=my_outputs)\n",
        "\n",
        "  # Call the compile method to construct the layers into a model that\n",
        "  # TensorFlow can execute.  Notice that we're using a different loss\n",
        "  # function for classification than for regression.\n",
        "  model.compile(optimizer=tf.keras.optimizers.experimental.RMSprop(learning_rate=my_learning_rate),\n",
        "                loss=tf.keras.losses.BinaryCrossentropy(),\n",
        "                metrics=METRICS)\n",
        "  return model\n",
        "\n",
        "\n",
        "def train_model(model, dataset, epochs, label_name,\n",
        "                batch_size=None, shuffle=True):\n",
        "  \"\"\"Feed a dataset into the model in order to train it.\"\"\"\n",
        "\n",
        "  # The x parameter of tf.keras.Model.fit can be a list of arrays, where\n",
        "  # each array contains the data for one feature.  Here, we're passing\n",
        "  # every column in the dataset. Note that the feature_layer will filter\n",
        "  # away most of those columns, leaving only the desired columns and their\n",
        "  # representations as features.\n",
        "  features = {name:np.array(value) for name, value in dataset.items()}\n",
        "  label = np.array(features.pop(label_name))\n",
        "  history = model.fit(x=features, y=label, batch_size=batch_size,\n",
        "                      epochs=epochs, shuffle=shuffle)\n",
        "\n",
        "  # The list of epochs is stored separately from the rest of history.\n",
        "  epochs = history.epoch\n",
        "\n",
        "  # Isolate the classification metric for each epoch.\n",
        "  hist = pd.DataFrame(history.history)\n",
        "\n",
        "  return epochs, hist\n",
        "\n",
        "print(\"Defined the create_model and train_model functions.\")"
      ]
    },
    {
      "cell_type": "markdown",
      "metadata": {
        "id": "Ak_TMAzGOIFq"
      },
      "source": [
        "## Define a plotting function\n",
        "\n",
        "The following [matplotlib](https://developers.google.com/machine-learning/glossary/#matplotlib) function plots one or more curves, showing how various classification metrics change with each epoch."
      ]
    },
    {
      "cell_type": "code",
      "execution_count": 20,
      "metadata": {
        "cellView": "form",
        "id": "QF0BFRXTOeR3"
      },
      "outputs": [
        {
          "name": "stdout",
          "output_type": "stream",
          "text": [
            "Defined the plot_curve function.\n"
          ]
        }
      ],
      "source": [
        "#@title Define the plotting function.\n",
        "def plot_curve(epochs, hist, list_of_metrics):\n",
        "  \"\"\"Plot a curve of one or more classification metrics vs. epoch.\"\"\"\n",
        "  # list_of_metrics should be one of the names shown in:\n",
        "  # https://www.tensorflow.org/tutorials/structured_data/imbalanced_data#define_the_model_and_metrics\n",
        "\n",
        "  plt.figure()\n",
        "  plt.xlabel(\"Epoch\")\n",
        "  plt.ylabel(\"Value\")\n",
        "\n",
        "  for m in list_of_metrics:\n",
        "    x = hist[m]\n",
        "    plt.plot(epochs[1:], x[1:], label=m)\n",
        "\n",
        "  plt.legend()\n",
        "\n",
        "print(\"Defined the plot_curve function.\")"
      ]
    },
    {
      "cell_type": "markdown",
      "metadata": {
        "id": "D-IXYVfvM4gD"
      },
      "source": [
        "## Invoke the creating, training, and plotting functions\n",
        "\n",
        "The following code cell calls specify the hyperparameters, and then invokes the\n",
        "functions to create and train the model, and then to plot the results."
      ]
    },
    {
      "cell_type": "code",
      "execution_count": 21,
      "metadata": {
        "cellView": "both",
        "id": "nj3v5EKQFY8s"
      },
      "outputs": [
        {
          "name": "stdout",
          "output_type": "stream",
          "text": [
            "Epoch 1/20\n",
            "WARNING:tensorflow:From C:\\Users\\dkjsi\\AppData\\Local\\Packages\\PythonSoftwareFoundation.Python.3.11_qbz5n2kfra8p0\\LocalCache\\local-packages\\Python311\\site-packages\\keras\\src\\utils\\tf_utils.py:492: The name tf.ragged.RaggedTensorValue is deprecated. Please use tf.compat.v1.ragged.RaggedTensorValue instead.\n",
            "\n"
          ]
        },
        {
          "name": "stderr",
          "output_type": "stream",
          "text": [
            "C:\\Users\\dkjsi\\AppData\\Local\\Packages\\PythonSoftwareFoundation.Python.3.11_qbz5n2kfra8p0\\LocalCache\\local-packages\\Python311\\site-packages\\keras\\src\\engine\\functional.py:642: UserWarning: Input dict contained keys ['longitude', 'latitude', 'housing_median_age', 'total_bedrooms', 'population', 'households', 'median_house_value'] which did not match any model input. They will be ignored by the model.\n",
            "  inputs = self._flatten_to_reference_inputs(inputs)\n"
          ]
        },
        {
          "name": "stdout",
          "output_type": "stream",
          "text": [
            "170/170 [==============================] - 1s 819us/step - loss: 0.6354 - accuracy: 0.2996\n",
            "Epoch 2/20\n",
            "170/170 [==============================] - 0s 763us/step - loss: 0.5711 - accuracy: 0.4636\n",
            "Epoch 3/20\n",
            "170/170 [==============================] - 0s 768us/step - loss: 0.5198 - accuracy: 0.6186\n",
            "Epoch 4/20\n",
            "170/170 [==============================] - 0s 761us/step - loss: 0.4804 - accuracy: 0.7036\n",
            "Epoch 5/20\n",
            "170/170 [==============================] - 0s 776us/step - loss: 0.4503 - accuracy: 0.7532\n",
            "Epoch 6/20\n",
            "170/170 [==============================] - 0s 778us/step - loss: 0.4298 - accuracy: 0.7785\n",
            "Epoch 7/20\n",
            "170/170 [==============================] - 0s 767us/step - loss: 0.4158 - accuracy: 0.7940\n",
            "Epoch 8/20\n",
            "170/170 [==============================] - 0s 753us/step - loss: 0.4072 - accuracy: 0.8019\n",
            "Epoch 9/20\n",
            "170/170 [==============================] - 0s 764us/step - loss: 0.4024 - accuracy: 0.8054\n",
            "Epoch 10/20\n",
            "170/170 [==============================] - 0s 751us/step - loss: 0.3997 - accuracy: 0.8066\n",
            "Epoch 11/20\n",
            "170/170 [==============================] - 0s 772us/step - loss: 0.3982 - accuracy: 0.8071\n",
            "Epoch 12/20\n",
            "170/170 [==============================] - 0s 763us/step - loss: 0.3975 - accuracy: 0.8078\n",
            "Epoch 13/20\n",
            "170/170 [==============================] - 0s 757us/step - loss: 0.3970 - accuracy: 0.8077\n",
            "Epoch 14/20\n",
            "170/170 [==============================] - 0s 756us/step - loss: 0.3968 - accuracy: 0.8088\n",
            "Epoch 15/20\n",
            "170/170 [==============================] - 0s 749us/step - loss: 0.3967 - accuracy: 0.8082\n",
            "Epoch 16/20\n",
            "170/170 [==============================] - 0s 758us/step - loss: 0.3967 - accuracy: 0.8090\n",
            "Epoch 17/20\n",
            "170/170 [==============================] - 0s 758us/step - loss: 0.3966 - accuracy: 0.8088\n",
            "Epoch 18/20\n",
            "170/170 [==============================] - 0s 754us/step - loss: 0.3966 - accuracy: 0.8090\n",
            "Epoch 19/20\n",
            "170/170 [==============================] - 0s 763us/step - loss: 0.3966 - accuracy: 0.8093\n",
            "Epoch 20/20\n",
            "170/170 [==============================] - 0s 769us/step - loss: 0.3966 - accuracy: 0.8094\n"
          ]
        },
        {
          "data": {
            "image/png": "[encoded data removed]",
            "text/plain": [
              "<Figure size 640x480 with 1 Axes>"
            ]
          },
          "metadata": {},
          "output_type": "display_data"
        }
      ],
      "source": [
        "# The following variables are the hyperparameters.\n",
        "learning_rate = 0.001\n",
        "epochs = 20\n",
        "batch_size = 100\n",
        "label_name = \"median_house_value_is_high\"\n",
        "classification_threshold = 0.35\n",
        "\n",
        "# Establish the metrics the model will measure.\n",
        "METRICS = [\n",
        "           tf.keras.metrics.BinaryAccuracy(name='accuracy',\n",
        "                                           threshold=classification_threshold),\n",
        "          ]\n",
        "\n",
        "# Establish the model's topography.\n",
        "my_model = create_model(inputs, learning_rate, METRICS)\n",
        "\n",
        "# To view a PNG of this model's layers, uncomment the call to\n",
        "# `tf.keras.utils.plot_model` below. After running this code cell, click\n",
        "# the file folder on the left, then the `my_classification_model.png` file.\n",
        "# tf.keras.utils.plot_model(my_model, \"my_classification_model.png\")\n",
        "\n",
        "# Train the model on the training set.\n",
        "epochs, hist = train_model(my_model, train_df_norm, epochs,\n",
        "                           label_name, batch_size)\n",
        "\n",
        "# Plot a graph of the metric(s) vs. epochs.\n",
        "list_of_metrics_to_plot = ['accuracy']\n",
        "\n",
        "plot_curve(epochs, hist, list_of_metrics_to_plot)"
      ]
    },
    {
      "cell_type": "markdown",
      "metadata": {
        "id": "FF64TpqkbOpn"
      },
      "source": [
        "Accuracy should gradually improve during training (until it can\n",
        "improve no more)."
      ]
    },
    {
      "cell_type": "markdown",
      "metadata": {
        "id": "1xNqWWos_zyk"
      },
      "source": [
        "## Evaluate the model against the test set\n",
        "\n",
        "At the end of model training, you ended up with a certain accuracy against the *training set*. Invoke the following code cell to determine your model's accuracy against the *test set*."
      ]
    },
    {
      "cell_type": "code",
      "execution_count": 22,
      "metadata": {
        "id": "eJorkMlDmtHf"
      },
      "outputs": [
        {
          "name": "stdout",
          "output_type": "stream",
          "text": [
            "30/30 [==============================] - 0s 2ms/step - loss: 0.4070 - accuracy: 0.8047\n"
          ]
        },
        {
          "data": {
            "text/plain": [
              "[0.407034307718277, 0.8046666383743286]"
            ]
          },
          "execution_count": 22,
          "metadata": {},
          "output_type": "execute_result"
        }
      ],
      "source": [
        "features = {name:np.array(value) for name, value in test_df_norm.items()}\n",
        "label = np.array(features.pop(label_name))\n",
        "\n",
        "my_model.evaluate(x = features, y = label, batch_size=batch_size)"
      ]
    },
    {
      "cell_type": "markdown",
      "metadata": {
        "id": "q7cHkFXalXV5"
      },
      "source": [
        "## Task 2: How accurate is your model really?\n",
        "\n",
        "Is your model valuable?"
      ]
    },
    {
      "cell_type": "code",
      "execution_count": null,
      "metadata": {
        "id": "rUvCrQkulwjV"
      },
      "outputs": [],
      "source": [
        "#@title Double-click for a possible answer to Task 2.\n",
        "\n",
        "# A perfect model would make 100% accurate predictions.\n",
        "# Our model makes 80% accurate predictions. 80% sounds\n",
        "# good, but note that a model that always guesses\n",
        "# \"median_house_value_is_high is False\" would be 75%\n",
        "# accurate."
      ]
    },
    {
      "cell_type": "markdown",
      "metadata": {
        "id": "C8crSCCVf6gm"
      },
      "source": [
        "## Task 3: Add precision and recall as metrics\n",
        "\n",
        "Relying solely on accuracy, particularly for a class-imbalanced data set (like ours), can be a poor way to judge a classification model.  Modify the code in the following code cell to enable the model to measure not only accuracy but also precision and recall. We have\n",
        "added accuracy and precision; your task is to add recall. See the [TensorFlow Reference](https://www.tensorflow.org/api_docs/python/tf/keras/metrics/Recall) for details.\n",
        "\n"
      ]
    },
    {
      "cell_type": "code",
      "execution_count": 26,
      "metadata": {
        "id": "r-k1MD2XArmO"
      },
      "outputs": [
        {
          "name": "stdout",
          "output_type": "stream",
          "text": [
            "Epoch 1/20\n"
          ]
        },
        {
          "name": "stderr",
          "output_type": "stream",
          "text": [
            "C:\\Users\\dkjsi\\AppData\\Local\\Packages\\PythonSoftwareFoundation.Python.3.11_qbz5n2kfra8p0\\LocalCache\\local-packages\\Python311\\site-packages\\keras\\src\\engine\\functional.py:642: UserWarning: Input dict contained keys ['longitude', 'latitude', 'housing_median_age', 'total_bedrooms', 'population', 'households', 'median_house_value'] which did not match any model input. They will be ignored by the model.\n",
            "  inputs = self._flatten_to_reference_inputs(inputs)\n"
          ]
        },
        {
          "name": "stdout",
          "output_type": "stream",
          "text": [
            "170/170 [==============================] - 0s 843us/step - loss: 0.6227 - accuracy: 0.2549 - precision: 0.2509 - recall: 0.9981\n",
            "Epoch 2/20\n",
            "170/170 [==============================] - 0s 821us/step - loss: 0.5617 - accuracy: 0.4192 - precision: 0.2968 - recall: 0.9675\n",
            "Epoch 3/20\n",
            "170/170 [==============================] - 0s 801us/step - loss: 0.5131 - accuracy: 0.6119 - precision: 0.3816 - recall: 0.8922\n",
            "Epoch 4/20\n",
            "170/170 [==============================] - 0s 800us/step - loss: 0.4756 - accuracy: 0.7085 - precision: 0.4529 - recall: 0.8027\n",
            "Epoch 5/20\n",
            "170/170 [==============================] - 0s 806us/step - loss: 0.4476 - accuracy: 0.7529 - precision: 0.5038 - recall: 0.7313\n",
            "Epoch 6/20\n",
            "170/170 [==============================] - 0s 800us/step - loss: 0.4278 - accuracy: 0.7781 - precision: 0.5443 - recall: 0.6857\n",
            "Epoch 7/20\n",
            "170/170 [==============================] - 0s 795us/step - loss: 0.4146 - accuracy: 0.7933 - precision: 0.5751 - recall: 0.6612\n",
            "Epoch 8/20\n",
            "170/170 [==============================] - 0s 805us/step - loss: 0.4064 - accuracy: 0.8004 - precision: 0.5925 - recall: 0.6437\n",
            "Epoch 9/20\n",
            "170/170 [==============================] - 0s 799us/step - loss: 0.4018 - accuracy: 0.8050 - precision: 0.6054 - recall: 0.6303\n",
            "Epoch 10/20\n",
            "170/170 [==============================] - 0s 796us/step - loss: 0.3993 - accuracy: 0.8064 - precision: 0.6104 - recall: 0.6216\n",
            "Epoch 11/20\n",
            "170/170 [==============================] - 0s 797us/step - loss: 0.3980 - accuracy: 0.8072 - precision: 0.6129 - recall: 0.6193\n",
            "Epoch 12/20\n",
            "170/170 [==============================] - 0s 794us/step - loss: 0.3973 - accuracy: 0.8085 - precision: 0.6169 - recall: 0.6155\n",
            "Epoch 13/20\n",
            "170/170 [==============================] - 0s 827us/step - loss: 0.3970 - accuracy: 0.8080 - precision: 0.6157 - recall: 0.6160\n",
            "Epoch 14/20\n",
            "170/170 [==============================] - 0s 828us/step - loss: 0.3968 - accuracy: 0.8081 - precision: 0.6159 - recall: 0.6162\n",
            "Epoch 15/20\n",
            "170/170 [==============================] - 0s 815us/step - loss: 0.3967 - accuracy: 0.8091 - precision: 0.6185 - recall: 0.6150\n",
            "Epoch 16/20\n",
            "170/170 [==============================] - 0s 841us/step - loss: 0.3967 - accuracy: 0.8094 - precision: 0.6197 - recall: 0.6136\n",
            "Epoch 17/20\n",
            "170/170 [==============================] - 0s 802us/step - loss: 0.3966 - accuracy: 0.8079 - precision: 0.6157 - recall: 0.6150\n",
            "Epoch 18/20\n",
            "170/170 [==============================] - 0s 796us/step - loss: 0.3966 - accuracy: 0.8095 - precision: 0.6199 - recall: 0.6141\n",
            "Epoch 19/20\n",
            "170/170 [==============================] - 0s 790us/step - loss: 0.3966 - accuracy: 0.8094 - precision: 0.6195 - recall: 0.6146\n",
            "Epoch 20/20\n",
            "170/170 [==============================] - 0s 801us/step - loss: 0.3966 - accuracy: 0.8095 - precision: 0.6199 - recall: 0.6134\n"
          ]
        },
        {
          "data": {
            "image/png": "[encoded data removed]",
            "text/plain": [
              "<Figure size 640x480 with 1 Axes>"
            ]
          },
          "metadata": {},
          "output_type": "display_data"
        }
      ],
      "source": [
        "# The following variables are the hyperparameters.\n",
        "learning_rate = 0.001\n",
        "epochs = 20\n",
        "batch_size = 100\n",
        "classification_threshold = 0.35\n",
        "label_name = \"median_house_value_is_high\"\n",
        "\n",
        "# Modify the following definition of METRICS to generate\n",
        "# not only accuracy and precision, but also recall:\n",
        "METRICS = [\n",
        "      tf.keras.metrics.BinaryAccuracy(name='accuracy',\n",
        "                                      threshold=classification_threshold),\n",
        "      tf.keras.metrics.Precision(thresholds=classification_threshold,\n",
        "                                 name='precision'\n",
        "                                 ),\n",
        "      tf.keras.metrics.Recall(thresholds=classification_threshold,\n",
        "                              name='recall'\n",
        "                              ),\n",
        "]\n",
        "\n",
        "# Establish the model's topography.\n",
        "my_model = create_model(inputs, learning_rate, METRICS)\n",
        "\n",
        "# Train the model on the training set.\n",
        "epochs, hist = train_model(my_model, train_df_norm, epochs,\n",
        "                           label_name, batch_size)\n",
        "\n",
        "# Plot metrics vs. epochs\n",
        "list_of_metrics_to_plot = ['accuracy', 'precision', 'recall']\n",
        "plot_curve(epochs, hist, list_of_metrics_to_plot)"
      ]
    },
    {
      "cell_type": "code",
      "execution_count": 27,
      "metadata": {
        "cellView": "form",
        "id": "Ax87gOyDBhAu"
      },
      "outputs": [
        {
          "name": "stdout",
          "output_type": "stream",
          "text": [
            "Epoch 1/20\n",
            "170/170 [==============================] - 0s 828us/step - loss: 1.0977 - accuracy: 0.2532 - precision: 0.1457 - recall: 0.4090\n",
            "Epoch 2/20\n",
            "170/170 [==============================] - 0s 795us/step - loss: 0.9907 - accuracy: 0.2735 - precision: 0.1418 - recall: 0.3777\n",
            "Epoch 3/20\n",
            "170/170 [==============================] - 0s 794us/step - loss: 0.8932 - accuracy: 0.3098 - precision: 0.1393 - recall: 0.3402\n",
            "Epoch 4/20\n",
            "170/170 [==============================] - 0s 794us/step - loss: 0.8073 - accuracy: 0.3649 - precision: 0.1375 - recall: 0.2924\n",
            "Epoch 5/20\n",
            "170/170 [==============================] - 0s 807us/step - loss: 0.7315 - accuracy: 0.4662 - precision: 0.1444 - recall: 0.2308\n",
            "Epoch 6/20\n",
            "170/170 [==============================] - 0s 803us/step - loss: 0.6674 - accuracy: 0.5951 - precision: 0.1726 - recall: 0.1636\n",
            "Epoch 7/20\n",
            "170/170 [==============================] - 0s 802us/step - loss: 0.6138 - accuracy: 0.6828 - precision: 0.2355 - recall: 0.1201\n",
            "Epoch 8/20\n",
            "170/170 [==============================] - 0s 815us/step - loss: 0.5685 - accuracy: 0.7169 - precision: 0.3093 - recall: 0.1078\n",
            "Epoch 9/20\n",
            "170/170 [==============================] - 0s 811us/step - loss: 0.5307 - accuracy: 0.7504 - precision: 0.5011 - recall: 0.1606\n",
            "Epoch 10/20\n",
            "170/170 [==============================] - 0s 820us/step - loss: 0.4988 - accuracy: 0.7895 - precision: 0.6817 - recall: 0.2955\n",
            "Epoch 11/20\n",
            "170/170 [==============================] - 0s 806us/step - loss: 0.4723 - accuracy: 0.8148 - precision: 0.7272 - recall: 0.4137\n",
            "Epoch 12/20\n",
            "170/170 [==============================] - 0s 811us/step - loss: 0.4513 - accuracy: 0.8228 - precision: 0.7117 - recall: 0.4888\n",
            "Epoch 13/20\n",
            "170/170 [==============================] - 0s 799us/step - loss: 0.4347 - accuracy: 0.8234 - precision: 0.6878 - recall: 0.5364\n",
            "Epoch 14/20\n",
            "170/170 [==============================] - 0s 809us/step - loss: 0.4221 - accuracy: 0.8203 - precision: 0.6636 - recall: 0.5691\n",
            "Epoch 15/20\n",
            "170/170 [==============================] - 0s 797us/step - loss: 0.4128 - accuracy: 0.8148 - precision: 0.6412 - recall: 0.5877\n",
            "Epoch 16/20\n",
            "170/170 [==============================] - 0s 817us/step - loss: 0.4062 - accuracy: 0.8139 - precision: 0.6354 - recall: 0.5990\n",
            "Epoch 17/20\n",
            "170/170 [==============================] - 0s 819us/step - loss: 0.4020 - accuracy: 0.8119 - precision: 0.6278 - recall: 0.6065\n",
            "Epoch 18/20\n",
            "170/170 [==============================] - 0s 804us/step - loss: 0.3995 - accuracy: 0.8098 - precision: 0.6216 - recall: 0.6103\n",
            "Epoch 19/20\n",
            "170/170 [==============================] - 0s 811us/step - loss: 0.3981 - accuracy: 0.8096 - precision: 0.6207 - recall: 0.6120\n",
            "Epoch 20/20\n",
            "170/170 [==============================] - 0s 792us/step - loss: 0.3974 - accuracy: 0.8095 - precision: 0.6204 - recall: 0.6122\n"
          ]
        },
        {
          "data": {
            "image/png": "[encoded data removed]",
            "text/plain": [
              "<Figure size 640x480 with 1 Axes>"
            ]
          },
          "metadata": {},
          "output_type": "display_data"
        }
      ],
      "source": [
        "#@title Double-click to view the solution for Task 3.\n",
        "\n",
        "# The following variables are the hyperparameters.\n",
        "learning_rate = 0.001\n",
        "epochs = 20\n",
        "batch_size = 100\n",
        "classification_threshold = 0.35\n",
        "label_name = \"median_house_value_is_high\"\n",
        "\n",
        "# Here is the updated definition of METRICS:\n",
        "METRICS = [\n",
        "      tf.keras.metrics.BinaryAccuracy(name='accuracy',\n",
        "                                      threshold=classification_threshold),\n",
        "      tf.keras.metrics.Precision(thresholds=classification_threshold,\n",
        "                                 name='precision'\n",
        "                                 ),\n",
        "      tf.keras.metrics.Recall(thresholds=classification_threshold,\n",
        "                              name=\"recall\"),\n",
        "]\n",
        "\n",
        "# Establish the model's topography.\n",
        "my_model = create_model(inputs, learning_rate, METRICS)\n",
        "\n",
        "# Train the model on the training set.\n",
        "epochs, hist = train_model(my_model, train_df_norm, epochs,\n",
        "                           label_name, batch_size)\n",
        "\n",
        "# Plot metrics vs. epochs\n",
        "list_of_metrics_to_plot = ['accuracy', \"precision\", \"recall\"]\n",
        "plot_curve(epochs, hist, list_of_metrics_to_plot)\n",
        "\n",
        "\n",
        "# The new graphs suggest that precision and recall are\n",
        "# somewhat in conflict. That is, improvements to one of\n",
        "# those metrics may hurt the other metric."
      ]
    },
    {
      "cell_type": "markdown",
      "metadata": {
        "id": "cAsB85iKSXLe"
      },
      "source": [
        "## Task 4: Experiment with the classification threshold (if time permits)\n",
        "\n",
        "Experiment with different values for `classification_threshold` in the code cell within \"Invoke the creating, training, and plotting functions.\"  What value of `classification_threshold` produces the highest accuracy?"
      ]
    },
    {
      "cell_type": "code",
      "execution_count": 28,
      "metadata": {
        "cellView": "form",
        "id": "FLPDYI7Sphnj"
      },
      "outputs": [
        {
          "name": "stdout",
          "output_type": "stream",
          "text": [
            "Epoch 1/20\n",
            "170/170 [==============================] - 0s 866us/step - loss: 0.7742 - accuracy: 0.4712 - precision: 0.2418 - recall: 0.5230\n",
            "Epoch 2/20\n",
            "170/170 [==============================] - 0s 807us/step - loss: 0.6710 - accuracy: 0.6364 - precision: 0.3381 - recall: 0.4756\n",
            "Epoch 3/20\n",
            "170/170 [==============================] - 0s 819us/step - loss: 0.5878 - accuracy: 0.7648 - precision: 0.5371 - recall: 0.4227\n",
            "Epoch 4/20\n",
            "170/170 [==============================] - 0s 796us/step - loss: 0.5225 - accuracy: 0.8059 - precision: 0.6894 - recall: 0.4062\n",
            "Epoch 5/20\n",
            "170/170 [==============================] - 0s 800us/step - loss: 0.4747 - accuracy: 0.8216 - precision: 0.7777 - recall: 0.4003\n",
            "Epoch 6/20\n",
            "170/170 [==============================] - 0s 790us/step - loss: 0.4413 - accuracy: 0.8291 - precision: 0.8143 - recall: 0.4090\n",
            "Epoch 7/20\n",
            "170/170 [==============================] - 0s 796us/step - loss: 0.4200 - accuracy: 0.8342 - precision: 0.8291 - recall: 0.4238\n",
            "Epoch 8/20\n",
            "170/170 [==============================] - 0s 785us/step - loss: 0.4086 - accuracy: 0.8357 - precision: 0.8248 - recall: 0.4347\n",
            "Epoch 9/20\n",
            "170/170 [==============================] - 0s 788us/step - loss: 0.4027 - accuracy: 0.8356 - precision: 0.8119 - recall: 0.4450\n",
            "Epoch 10/20\n",
            "170/170 [==============================] - 0s 803us/step - loss: 0.3996 - accuracy: 0.8354 - precision: 0.8025 - recall: 0.4526\n",
            "Epoch 11/20\n",
            "170/170 [==============================] - 0s 789us/step - loss: 0.3981 - accuracy: 0.8364 - precision: 0.7996 - recall: 0.4603\n",
            "Epoch 12/20\n",
            "170/170 [==============================] - 0s 786us/step - loss: 0.3974 - accuracy: 0.8368 - precision: 0.7932 - recall: 0.4688\n",
            "Epoch 13/20\n",
            "170/170 [==============================] - 0s 778us/step - loss: 0.3970 - accuracy: 0.8366 - precision: 0.7931 - recall: 0.4683\n",
            "Epoch 14/20\n",
            "170/170 [==============================] - 0s 788us/step - loss: 0.3968 - accuracy: 0.8362 - precision: 0.7920 - recall: 0.4672\n",
            "Epoch 15/20\n",
            "170/170 [==============================] - 0s 787us/step - loss: 0.3967 - accuracy: 0.8367 - precision: 0.7913 - recall: 0.4704\n",
            "Epoch 16/20\n",
            "170/170 [==============================] - 0s 774us/step - loss: 0.3967 - accuracy: 0.8364 - precision: 0.7886 - recall: 0.4716\n",
            "Epoch 17/20\n",
            "170/170 [==============================] - 0s 775us/step - loss: 0.3966 - accuracy: 0.8359 - precision: 0.7856 - recall: 0.4719\n",
            "Epoch 18/20\n",
            "170/170 [==============================] - 0s 798us/step - loss: 0.3966 - accuracy: 0.8361 - precision: 0.7856 - recall: 0.4728\n",
            "Epoch 19/20\n",
            "170/170 [==============================] - 0s 784us/step - loss: 0.3966 - accuracy: 0.8362 - precision: 0.7849 - recall: 0.4742\n",
            "Epoch 20/20\n",
            "170/170 [==============================] - 0s 777us/step - loss: 0.3966 - accuracy: 0.8361 - precision: 0.7845 - recall: 0.4740\n"
          ]
        },
        {
          "data": {
            "image/png": "[encoded data removed]",
            "text/plain": [
              "<Figure size 640x480 with 1 Axes>"
            ]
          },
          "metadata": {},
          "output_type": "display_data"
        }
      ],
      "source": [
        "#@title Double-click to view the solution for Task 4.\n",
        "\n",
        "# The following variables are the hyperparameters.\n",
        "learning_rate = 0.001\n",
        "epochs = 20\n",
        "batch_size = 100\n",
        "classification_threshold = 0.52\n",
        "label_name = \"median_house_value_is_high\"\n",
        "\n",
        "# Here is the updated definition of METRICS:\n",
        "METRICS = [\n",
        "      tf.keras.metrics.BinaryAccuracy(name='accuracy',\n",
        "                                      threshold=classification_threshold),\n",
        "      tf.keras.metrics.Precision(thresholds=classification_threshold,\n",
        "                                 name='precision'\n",
        "                                 ),\n",
        "      tf.keras.metrics.Recall(thresholds=classification_threshold,\n",
        "                              name=\"recall\"),\n",
        "]\n",
        "\n",
        "# Establish the model's topography.\n",
        "my_model = create_model(inputs, learning_rate, METRICS)\n",
        "\n",
        "# Train the model on the training set.\n",
        "epochs, hist = train_model(my_model, train_df_norm, epochs,\n",
        "                           label_name, batch_size)\n",
        "\n",
        "# Plot metrics vs. epochs\n",
        "list_of_metrics_to_plot = ['accuracy', \"precision\", \"recall\"]\n",
        "plot_curve(epochs, hist, list_of_metrics_to_plot)\n",
        "\n",
        "# A `classification_threshold` of slightly over 0.5\n",
        "# appears to produce the highest accuracy (about 83%).\n",
        "# Raising the `classification_threshold` to 0.9 drops\n",
        "# accuracy by about 5%.  Lowering the\n",
        "# `classification_threshold` to 0.3 drops accuracy by\n",
        "# about 3%."
      ]
    },
    {
      "cell_type": "markdown",
      "metadata": {
        "id": "XBGRS0Ndduus"
      },
      "source": [
        "## Task 5: Summarize model performance (if time permits)\n",
        "\n",
        "If time permits, add one more metric that attempts to summarize the model's overall performance."
      ]
    },
    {
      "cell_type": "code",
      "execution_count": 29,
      "metadata": {
        "cellView": "form",
        "id": "vwNE6syoFvWe"
      },
      "outputs": [
        {
          "name": "stdout",
          "output_type": "stream",
          "text": [
            "Epoch 1/20\n",
            "170/170 [==============================] - 0s 853us/step - loss: 0.5762 - auc: 0.8151\n",
            "Epoch 2/20\n",
            "170/170 [==============================] - 0s 806us/step - loss: 0.5309 - auc: 0.8200\n",
            "Epoch 3/20\n",
            "170/170 [==============================] - 0s 788us/step - loss: 0.4923 - auc: 0.8244\n",
            "Epoch 4/20\n",
            "170/170 [==============================] - 0s 780us/step - loss: 0.4606 - auc: 0.8283\n",
            "Epoch 5/20\n",
            "170/170 [==============================] - 0s 784us/step - loss: 0.4358 - auc: 0.8317\n",
            "Epoch 6/20\n",
            "170/170 [==============================] - 0s 780us/step - loss: 0.4187 - auc: 0.8342\n",
            "Epoch 7/20\n",
            "170/170 [==============================] - 0s 778us/step - loss: 0.4079 - auc: 0.8357\n",
            "Epoch 8/20\n",
            "170/170 [==============================] - 0s 782us/step - loss: 0.4019 - auc: 0.8363\n",
            "Epoch 9/20\n",
            "170/170 [==============================] - 0s 781us/step - loss: 0.3990 - auc: 0.8366\n",
            "Epoch 10/20\n",
            "170/170 [==============================] - 0s 787us/step - loss: 0.3977 - auc: 0.8369\n",
            "Epoch 11/20\n",
            "170/170 [==============================] - 0s 774us/step - loss: 0.3972 - auc: 0.8367\n",
            "Epoch 12/20\n",
            "170/170 [==============================] - 0s 783us/step - loss: 0.3969 - auc: 0.8370\n",
            "Epoch 13/20\n",
            "170/170 [==============================] - 0s 776us/step - loss: 0.3968 - auc: 0.8367\n",
            "Epoch 14/20\n",
            "170/170 [==============================] - 0s 791us/step - loss: 0.3967 - auc: 0.8368\n",
            "Epoch 15/20\n",
            "170/170 [==============================] - 0s 787us/step - loss: 0.3967 - auc: 0.8369\n",
            "Epoch 16/20\n",
            "170/170 [==============================] - 0s 792us/step - loss: 0.3966 - auc: 0.8369\n",
            "Epoch 17/20\n",
            "170/170 [==============================] - 0s 796us/step - loss: 0.3966 - auc: 0.8369\n",
            "Epoch 18/20\n",
            "170/170 [==============================] - 0s 795us/step - loss: 0.3966 - auc: 0.8369\n",
            "Epoch 19/20\n",
            "170/170 [==============================] - 0s 780us/step - loss: 0.3966 - auc: 0.8368\n",
            "Epoch 20/20\n",
            "170/170 [==============================] - 0s 788us/step - loss: 0.3966 - auc: 0.8369\n"
          ]
        },
        {
          "data": {
            "image/png": "[encoded data removed]",
            "text/plain": [
              "<Figure size 640x480 with 1 Axes>"
            ]
          },
          "metadata": {},
          "output_type": "display_data"
        }
      ],
      "source": [
        "#@title Double-click to view the solution for Task 5.\n",
        "\n",
        "# The following variables are the hyperparameters.\n",
        "learning_rate = 0.001\n",
        "epochs = 20\n",
        "batch_size = 100\n",
        "label_name = \"median_house_value_is_high\"\n",
        "\n",
        "# AUC is a reasonable \"summary\" metric for\n",
        "# classification models.\n",
        "# Here is the updated definition of METRICS to\n",
        "# measure AUC:\n",
        "METRICS = [\n",
        "      tf.keras.metrics.AUC(num_thresholds=100, name='auc'),\n",
        "]\n",
        "\n",
        "# Establish the model's topography.\n",
        "my_model = create_model(inputs, learning_rate, METRICS)\n",
        "\n",
        "# Train the model on the training set.\n",
        "epochs, hist = train_model(my_model, train_df_norm, epochs,\n",
        "                           label_name, batch_size)\n",
        "\n",
        "# Plot metrics vs. epochs\n",
        "list_of_metrics_to_plot = ['auc']\n",
        "plot_curve(epochs, hist, list_of_metrics_to_plot)"
      ]
    }
  ],
  "metadata": {
    "colab": {
      "name": "Binary Classification.ipynb",
      "private_outputs": true,
      "provenance": []
    },
    "kernelspec": {
      "display_name": "Python 3",
      "name": "python3"
    },
    "language_info": {
      "codemirror_mode": {
        "name": "ipython",
        "version": 3
      },
      "file_extension": ".py",
      "mimetype": "text/x-python",
      "name": "python",
      "nbconvert_exporter": "python",
      "pygments_lexer": "ipython3",
      "version": "3.11.7"
    }
  },
  "nbformat": 4,
  "nbformat_minor": 0
}
